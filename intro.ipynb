{
 "cells": [
  {
   "cell_type": "markdown",
   "metadata": {
    "colab_type": "text",
    "execution": {},
    "id": "view-in-github"
   },
   "source": [
    "<a href=\"https://colab.research.google.com/github/neuromatch/course-content-template/blob/main/tutorials/intro.ipynb\" target=\"_parent\"><img src=\"https://colab.research.google.com/assets/colab-badge.svg\" alt=\"Open In Colab\"/></a> &nbsp; <a href=\"https://kaggle.com/kernels/welcome?src=https://raw.githubusercontent.com/neuromatch/course-content-template/main/tutorials/intro.ipynb\" target=\"_parent\"><img src=\"https://kaggle.com/static/images/open-in-kaggle.svg\" alt=\"Open in Kaggle\"/></a>"
   ]
  },
  {
   "cell_type": "markdown",
   "metadata": {
    "execution": {}
   },
   "source": [
    "## Curriculum overview\n",
    "\n",
    "Welcome to the NeuroAI Course!\n",
    "\n",
    "\n",
    "**What are common principles of natural and artificial intelligence?**\n",
    "\n",
    "The core challenge of intelligence is generalization. Neuroscience, cognitive science, and AI are all questing for principles that help generalization. Major system features that affect generalization include: task structure (multitasking, multiple inputs with same output and vice versa), microcircuitry (nonlinearities, canonical motifs and their operations, sparsity), macrocircuitry or architecture (e.g. modules for memory, information segregation, weight sharing by input symmetry or common development), learning rules (synaptic plasticity, modulation), and data stream (e.g. curriculum).\n",
    "\n",
    "We aim to present current understanding of how these issues arise in both natural and artificial intelligence, comparing how these system features affect representations, computations, and learning. We provide case studies and coding exercises that illustrate these issues in neuroscience, cognitive science and AI.\n",
    "\n",
    "- **Learning Goal 1**: A common understanding and vocabulary to describe challenges faced by naturally intelligent systems\n",
    "  - Describe core shared concepts in neuroscience, cognitive science and machine learning and how they differ from each other\n",
    "  - Describe and implement different ways in which an ANN can be compared to a BNN\n",
    "  - Describe multiple scales of computation, and multiple scales of study (e.g. Marr’s levels, what/how/why?)\n",
    "  \n",
    "  \n",
    "- **Learning Goal 2**: Experience a multiplicity of approaches and interests at the intersection of neuro and AI; be able to describe some of these approaches and interests\n",
    "- **Learning Goal 3**: Be able to practically implement NeuroAI models\n",
    "  - Coding and training models\n",
    "  - Adding more features to existing models\n",
    "  - Debugging (within guardrails)\n",
    "  - Interpreting, analyzing and critiquing existing models\n",
    "- **Learning Goal 4**: Complete research that deals with difficulties in NeuroAI\n",
    "  - Writing down a problem in a way that makes it tractable\n",
    "  - Interacting with other people from other disciplines fruitfully\n",
    "  - Do research (reading papers, implementing previous SOTA, coding new methods, evaluating diff methods) in NeuroAI\n",
    "  - Communicating their research in ways that are comprehensible to their target audience\n",
    "\n"
   ]
  }
 ],
 "metadata": {
  "colab": {
   "collapsed_sections": [],
   "include_colab_link": true,
   "name": "intro",
   "provenance": [],
   "toc_visible": true
  },
  "kernel": {
   "display_name": "Python 3",
   "language": "python",
   "name": "python3"
  },
  "kernelspec": {
   "display_name": "Python 3 (ipykernel)",
   "language": "python",
   "name": "python3"
  },
  "language_info": {
   "codemirror_mode": {
    "name": "ipython",
    "version": 3
   },
   "file_extension": ".py",
   "mimetype": "text/x-python",
   "name": "python",
   "nbconvert_exporter": "python",
   "pygments_lexer": "ipython3",
   "version": "3.9.19"
  }
 },
 "nbformat": 4,
 "nbformat_minor": 4
}
